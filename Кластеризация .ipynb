{
 "cells": [
  {
   "cell_type": "code",
   "execution_count": 1,
   "metadata": {},
   "outputs": [],
   "source": [
    "import numpy as np\n",
    "import pandas as pd"
   ]
  },
  {
   "cell_type": "code",
   "execution_count": 2,
   "metadata": {},
   "outputs": [
    {
     "name": "stdout",
     "output_type": "stream",
     "text": [
      "Populating the interactive namespace from numpy and matplotlib\n"
     ]
    }
   ],
   "source": [
    "%pylab inline"
   ]
  },
  {
   "cell_type": "code",
   "execution_count": 4,
   "metadata": {},
   "outputs": [
    {
     "name": "stderr",
     "output_type": "stream",
     "text": [
      "/Users/writex/opt/anaconda3/lib/python3.7/site-packages/IPython/core/interactiveshell.py:3063: DtypeWarning: Columns (0) have mixed types.Specify dtype option on import or set low_memory=False.\n",
      "  interactivity=interactivity, compiler=compiler, result=result)\n"
     ]
    }
   ],
   "source": [
    "data = pd.read_csv('checkins.dat', delimiter='|', skipinitialspace=True).dropna(axis=0)"
   ]
  },
  {
   "cell_type": "code",
   "execution_count": 5,
   "metadata": {},
   "outputs": [
    {
     "data": {
      "text/html": [
       "<div>\n",
       "<style scoped>\n",
       "    .dataframe tbody tr th:only-of-type {\n",
       "        vertical-align: middle;\n",
       "    }\n",
       "\n",
       "    .dataframe tbody tr th {\n",
       "        vertical-align: top;\n",
       "    }\n",
       "\n",
       "    .dataframe thead th {\n",
       "        text-align: right;\n",
       "    }\n",
       "</style>\n",
       "<table border=\"1\" class=\"dataframe\">\n",
       "  <thead>\n",
       "    <tr style=\"text-align: right;\">\n",
       "      <th></th>\n",
       "      <th>id</th>\n",
       "      <th>user_id</th>\n",
       "      <th>venue_id</th>\n",
       "      <th>latitude</th>\n",
       "      <th>longitude</th>\n",
       "      <th>created_at</th>\n",
       "    </tr>\n",
       "  </thead>\n",
       "  <tbody>\n",
       "    <tr>\n",
       "      <th>1021960</th>\n",
       "      <td>955561</td>\n",
       "      <td>626076.0</td>\n",
       "      <td>20073.0</td>\n",
       "      <td>40.850100</td>\n",
       "      <td>-73.866246</td>\n",
       "      <td>2012-04-13 09:56:48</td>\n",
       "    </tr>\n",
       "    <tr>\n",
       "      <th>1021961</th>\n",
       "      <td>955892</td>\n",
       "      <td>674797.0</td>\n",
       "      <td>2297.0</td>\n",
       "      <td>33.748995</td>\n",
       "      <td>-84.387982</td>\n",
       "      <td>2012-04-13 10:56:03</td>\n",
       "    </tr>\n",
       "    <tr>\n",
       "      <th>1021962</th>\n",
       "      <td>956377</td>\n",
       "      <td>845102.0</td>\n",
       "      <td>11195.0</td>\n",
       "      <td>42.765366</td>\n",
       "      <td>-71.467566</td>\n",
       "      <td>2012-04-13 12:08:45</td>\n",
       "    </tr>\n",
       "    <tr>\n",
       "      <th>1021963</th>\n",
       "      <td>956119</td>\n",
       "      <td>1139114.0</td>\n",
       "      <td>29488.0</td>\n",
       "      <td>42.439479</td>\n",
       "      <td>-83.743830</td>\n",
       "      <td>2012-04-13 11:36:44</td>\n",
       "    </tr>\n",
       "    <tr>\n",
       "      <th>1021965</th>\n",
       "      <td>956733</td>\n",
       "      <td>960666.0</td>\n",
       "      <td>60.0</td>\n",
       "      <td>42.331427</td>\n",
       "      <td>-83.045754</td>\n",
       "      <td>2012-04-13 21:56:19</td>\n",
       "    </tr>\n",
       "  </tbody>\n",
       "</table>\n",
       "</div>"
      ],
      "text/plain": [
       "          id       user_id   venue_id   latitude        longitude       \\\n",
       "1021960  955561    626076.0    20073.0       40.850100      -73.866246   \n",
       "1021961  955892    674797.0     2297.0       33.748995      -84.387982   \n",
       "1021962  956377    845102.0    11195.0       42.765366      -71.467566   \n",
       "1021963  956119   1139114.0    29488.0       42.439479      -83.743830   \n",
       "1021965  956733    960666.0       60.0       42.331427      -83.045754   \n",
       "\n",
       "            created_at        \n",
       "1021960  2012-04-13 09:56:48  \n",
       "1021961  2012-04-13 10:56:03  \n",
       "1021962  2012-04-13 12:08:45  \n",
       "1021963  2012-04-13 11:36:44  \n",
       "1021965  2012-04-13 21:56:19  "
      ]
     },
     "execution_count": 5,
     "metadata": {},
     "output_type": "execute_result"
    }
   ],
   "source": [
    "data.tail()"
   ]
  },
  {
   "cell_type": "code",
   "execution_count": 6,
   "metadata": {},
   "outputs": [
    {
     "data": {
      "text/plain": [
       "Index(['id    ', 'user_id ', 'venue_id ', 'latitude      ', 'longitude     ',\n",
       "       'created_at      '],\n",
       "      dtype='object')"
      ]
     },
     "execution_count": 6,
     "metadata": {},
     "output_type": "execute_result"
    }
   ],
   "source": [
    "data.columns"
   ]
  },
  {
   "cell_type": "code",
   "execution_count": 9,
   "metadata": {},
   "outputs": [
    {
     "name": "stdout",
     "output_type": "stream",
     "text": [
      "['id', 'user_id', 'venue_id', 'latitude', 'longitude', 'created_at']\n"
     ]
    }
   ],
   "source": [
    "cols = [col.strip() for col in data.columns]\n",
    "print (cols)"
   ]
  },
  {
   "cell_type": "code",
   "execution_count": 10,
   "metadata": {},
   "outputs": [],
   "source": [
    "data.columns=cols"
   ]
  },
  {
   "cell_type": "code",
   "execution_count": 11,
   "metadata": {},
   "outputs": [
    {
     "data": {
      "text/html": [
       "<div>\n",
       "<style scoped>\n",
       "    .dataframe tbody tr th:only-of-type {\n",
       "        vertical-align: middle;\n",
       "    }\n",
       "\n",
       "    .dataframe tbody tr th {\n",
       "        vertical-align: top;\n",
       "    }\n",
       "\n",
       "    .dataframe thead th {\n",
       "        text-align: right;\n",
       "    }\n",
       "</style>\n",
       "<table border=\"1\" class=\"dataframe\">\n",
       "  <thead>\n",
       "    <tr style=\"text-align: right;\">\n",
       "      <th></th>\n",
       "      <th>id</th>\n",
       "      <th>user_id</th>\n",
       "      <th>venue_id</th>\n",
       "      <th>latitude</th>\n",
       "      <th>longitude</th>\n",
       "      <th>created_at</th>\n",
       "    </tr>\n",
       "  </thead>\n",
       "  <tbody>\n",
       "    <tr>\n",
       "      <th>2</th>\n",
       "      <td>984222</td>\n",
       "      <td>15824.0</td>\n",
       "      <td>5222.0</td>\n",
       "      <td>38.895112</td>\n",
       "      <td>-77.036366</td>\n",
       "      <td>2012-04-21 17:43:47</td>\n",
       "    </tr>\n",
       "    <tr>\n",
       "      <th>4</th>\n",
       "      <td>984234</td>\n",
       "      <td>44652.0</td>\n",
       "      <td>5222.0</td>\n",
       "      <td>33.800745</td>\n",
       "      <td>-84.410520</td>\n",
       "      <td>2012-04-21 17:43:43</td>\n",
       "    </tr>\n",
       "    <tr>\n",
       "      <th>8</th>\n",
       "      <td>984291</td>\n",
       "      <td>105054.0</td>\n",
       "      <td>5222.0</td>\n",
       "      <td>45.523452</td>\n",
       "      <td>-122.676207</td>\n",
       "      <td>2012-04-21 17:39:22</td>\n",
       "    </tr>\n",
       "    <tr>\n",
       "      <th>10</th>\n",
       "      <td>984318</td>\n",
       "      <td>2146539.0</td>\n",
       "      <td>5222.0</td>\n",
       "      <td>40.764462</td>\n",
       "      <td>-111.904565</td>\n",
       "      <td>2012-04-21 17:35:46</td>\n",
       "    </tr>\n",
       "    <tr>\n",
       "      <th>11</th>\n",
       "      <td>984232</td>\n",
       "      <td>93870.0</td>\n",
       "      <td>380645.0</td>\n",
       "      <td>33.448377</td>\n",
       "      <td>-112.074037</td>\n",
       "      <td>2012-04-21 17:38:18</td>\n",
       "    </tr>\n",
       "  </tbody>\n",
       "</table>\n",
       "</div>"
      ],
      "text/plain": [
       "         id    user_id  venue_id   latitude   longitude           created_at\n",
       "2   984222     15824.0    5222.0  38.895112  -77.036366  2012-04-21 17:43:47\n",
       "4   984234     44652.0    5222.0  33.800745  -84.410520  2012-04-21 17:43:43\n",
       "8   984291    105054.0    5222.0  45.523452 -122.676207  2012-04-21 17:39:22\n",
       "10  984318   2146539.0    5222.0  40.764462 -111.904565  2012-04-21 17:35:46\n",
       "11  984232     93870.0  380645.0  33.448377 -112.074037  2012-04-21 17:38:18"
      ]
     },
     "execution_count": 11,
     "metadata": {},
     "output_type": "execute_result"
    }
   ],
   "source": [
    "data.head()"
   ]
  },
  {
   "cell_type": "code",
   "execution_count": 12,
   "metadata": {},
   "outputs": [
    {
     "data": {
      "text/plain": [
       "396634"
      ]
     },
     "execution_count": 12,
     "metadata": {},
     "output_type": "execute_result"
    }
   ],
   "source": [
    "len(data)"
   ]
  },
  {
   "cell_type": "code",
   "execution_count": 13,
   "metadata": {},
   "outputs": [],
   "source": [
    "from sklearn.cluster import MeanShift, estimate_bandwidth"
   ]
  },
  {
   "cell_type": "code",
   "execution_count": 14,
   "metadata": {},
   "outputs": [
    {
     "data": {
      "text/html": [
       "<div>\n",
       "<style scoped>\n",
       "    .dataframe tbody tr th:only-of-type {\n",
       "        vertical-align: middle;\n",
       "    }\n",
       "\n",
       "    .dataframe tbody tr th {\n",
       "        vertical-align: top;\n",
       "    }\n",
       "\n",
       "    .dataframe thead th {\n",
       "        text-align: right;\n",
       "    }\n",
       "</style>\n",
       "<table border=\"1\" class=\"dataframe\">\n",
       "  <thead>\n",
       "    <tr style=\"text-align: right;\">\n",
       "      <th></th>\n",
       "      <th>latitude</th>\n",
       "      <th>longitude</th>\n",
       "    </tr>\n",
       "  </thead>\n",
       "  <tbody>\n",
       "    <tr>\n",
       "      <th>2</th>\n",
       "      <td>38.895112</td>\n",
       "      <td>-77.036366</td>\n",
       "    </tr>\n",
       "    <tr>\n",
       "      <th>4</th>\n",
       "      <td>33.800745</td>\n",
       "      <td>-84.410520</td>\n",
       "    </tr>\n",
       "    <tr>\n",
       "      <th>8</th>\n",
       "      <td>45.523452</td>\n",
       "      <td>-122.676207</td>\n",
       "    </tr>\n",
       "    <tr>\n",
       "      <th>10</th>\n",
       "      <td>40.764462</td>\n",
       "      <td>-111.904565</td>\n",
       "    </tr>\n",
       "    <tr>\n",
       "      <th>11</th>\n",
       "      <td>33.448377</td>\n",
       "      <td>-112.074037</td>\n",
       "    </tr>\n",
       "  </tbody>\n",
       "</table>\n",
       "</div>"
      ],
      "text/plain": [
       "     latitude   longitude\n",
       "2   38.895112  -77.036366\n",
       "4   33.800745  -84.410520\n",
       "8   45.523452 -122.676207\n",
       "10  40.764462 -111.904565\n",
       "11  33.448377 -112.074037"
      ]
     },
     "execution_count": 14,
     "metadata": {},
     "output_type": "execute_result"
    }
   ],
   "source": [
    "X = data[['latitude', 'longitude']]\n",
    "X.head()"
   ]
  },
  {
   "cell_type": "code",
   "execution_count": 15,
   "metadata": {},
   "outputs": [],
   "source": [
    "ms = MeanShift(bandwidth=0.1)\n",
    "ms.fit(X[:100000])\n",
    "labels = ms.labels_\n",
    "cluster_centers = ms.cluster_centers_"
   ]
  },
  {
   "cell_type": "code",
   "execution_count": 16,
   "metadata": {},
   "outputs": [],
   "source": [
    "labels_unique = np.unique(labels)\n",
    "n_clusters_ = len(labels_unique)"
   ]
  },
  {
   "cell_type": "code",
   "execution_count": 23,
   "metadata": {},
   "outputs": [],
   "source": [
    "counts = dict()"
   ]
  },
  {
   "cell_type": "code",
   "execution_count": 31,
   "metadata": {},
   "outputs": [],
   "source": [
    "for i in range(len(labels)):\n",
    "    if labels[i] in counts:\n",
    "        counts[labels[i]]+=1\n",
    "    else:\n",
    "        counts[labels[i]] = 1"
   ]
  },
  {
   "cell_type": "code",
   "execution_count": 32,
   "metadata": {},
   "outputs": [],
   "source": [
    "interesting_labels = [label for label in labels_unique if counts[label]>15]\n",
    "points = [cluster_centers[i] for i in range(len(cluster_centers)) if interesting_labels.count(labels[i])>0]"
   ]
  },
  {
   "cell_type": "code",
   "execution_count": 33,
   "metadata": {},
   "outputs": [
    {
     "data": {
      "text/plain": [
       "2916"
      ]
     },
     "execution_count": 33,
     "metadata": {},
     "output_type": "execute_result"
    }
   ],
   "source": [
    "len(points)"
   ]
  },
  {
   "cell_type": "code",
   "execution_count": 34,
   "metadata": {},
   "outputs": [],
   "source": [
    "offices = []\n",
    "offices.append([33.751277, -118.188740])\n",
    "offices.append([25.867736, -80.324116])\n",
    "offices.append([51.503016, -0.075479])\n",
    "offices.append([52.378894, 4.885084])\n",
    "offices.append([39.366487, 117.036146])\n",
    "offices.append([-33.868457, 151.205134])"
   ]
  },
  {
   "cell_type": "code",
   "execution_count": 35,
   "metadata": {},
   "outputs": [
    {
     "name": "stderr",
     "output_type": "stream",
     "text": [
      "/Users/writex/opt/anaconda3/lib/python3.7/site-packages/ipykernel_launcher.py:6: RuntimeWarning: invalid value encountered in sqrt\n",
      "  \n"
     ]
    }
   ],
   "source": [
    "best_points=[]\n",
    "dist=[]\n",
    "for point in points:\n",
    "    best_dist=1000000\n",
    "    for office in offices:\n",
    "        d = np.sqrt((point[0]-office[0])*2+(point[1]-office[1])*2)\n",
    "        if d<best_dist:\n",
    "            best_dist=d\n",
    "    dist.append(best_dist)\n",
    "\n",
    "dist = np.array(dist)\n",
    "idxs = np.argsort(dist)[:20]"
   ]
  },
  {
   "cell_type": "code",
   "execution_count": 36,
   "metadata": {},
   "outputs": [
    {
     "data": {
      "text/plain": [
       "array([ 217,  377,  102, 1446, 2668, 2028,   28,   76,  737,   17, 2134,\n",
       "       1296, 1051, 1104,   85, 1999,  694,   47,  761, 1270])"
      ]
     },
     "execution_count": 36,
     "metadata": {},
     "output_type": "execute_result"
    }
   ],
   "source": [
    "idxs"
   ]
  },
  {
   "cell_type": "code",
   "execution_count": 37,
   "metadata": {},
   "outputs": [
    {
     "data": {
      "text/plain": [
       "array([0.10290735, 0.12221702, 0.12528203, 0.13935853, 0.14560701,\n",
       "       0.19349574, 0.22024706, 0.25554608, 0.25778906, 0.26058486,\n",
       "       0.29977325, 0.34474309, 0.36886426, 0.39424434, 0.41561584,\n",
       "       0.44267144, 0.44307618, 0.44366011, 0.46291379, 0.47323081])"
      ]
     },
     "execution_count": 37,
     "metadata": {},
     "output_type": "execute_result"
    }
   ],
   "source": [
    "dist[idxs]"
   ]
  },
  {
   "cell_type": "code",
   "execution_count": 38,
   "metadata": {},
   "outputs": [
    {
     "name": "stdout",
     "output_type": "stream",
     "text": [
      "32.792575,-117.224743\n",
      "-33.860630,151.204776\n",
      "37.591120,-122.020735\n",
      "35.463416,-89.910086\n",
      "34.257607,-88.703386\n",
      "52.921899,-1.475642\n",
      "25.785812,-80.217938\n",
      "37.693034,-122.097845\n",
      "38.232417,-122.636652\n",
      "34.035487,-118.438998\n",
      "47.015240,10.293670\n",
      "48.849920,2.637041\n",
      "38.334893,-122.704326\n",
      "52.634770,-1.129519\n",
      "34.198182,-118.549277\n",
      "56.837814,60.596842\n",
      "33.211757,-87.569979\n",
      "33.809878,-118.148924\n",
      "28.030303,-82.379539\n",
      "10.767549,106.681102\n"
     ]
    }
   ],
   "source": [
    "points=np.array(points)\n",
    "for point in points[idxs]:\n",
    "    print (\"%f,%f\" % (point[0], point[1]))"
   ]
  },
  {
   "cell_type": "code",
   "execution_count": null,
   "metadata": {},
   "outputs": [],
   "source": []
  },
  {
   "cell_type": "code",
   "execution_count": null,
   "metadata": {},
   "outputs": [],
   "source": []
  }
 ],
 "metadata": {
  "kernelspec": {
   "display_name": "Python 3",
   "language": "python",
   "name": "python3"
  },
  "language_info": {
   "codemirror_mode": {
    "name": "ipython",
    "version": 3
   },
   "file_extension": ".py",
   "mimetype": "text/x-python",
   "name": "python",
   "nbconvert_exporter": "python",
   "pygments_lexer": "ipython3",
   "version": "3.7.6"
  }
 },
 "nbformat": 4,
 "nbformat_minor": 4
}
